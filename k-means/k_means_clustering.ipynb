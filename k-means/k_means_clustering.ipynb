{
 "cells": [
  {
   "cell_type": "markdown",
   "metadata": {},
   "source": [
    "# k-Means Clustering\n",
    "\n",
    "In this notebook, you will implement the k-means clustering algorithm.\n",
    "\n",
    "## Packages\n",
    "\n",
    "Following packages is all you need. Do not import any additional packages!\n",
    "\n",
    "In case you are not familiar with [Numpy](http://www.numpy.org/) library, it provides support for large multi-dimensional arrays and matrices, along with functions to operate on these. [Matplotlib](https://matplotlib.org/) is a plotting library."
   ]
  },
  {
   "cell_type": "code",
   "execution_count": 1,
   "metadata": {},
   "outputs": [],
   "source": [
    "import numpy as np\n",
    "%matplotlib inline\n",
    "from matplotlib import pyplot as plt"
   ]
  },
  {
   "cell_type": "markdown",
   "metadata": {},
   "source": [
    "## Function\n",
    "\n",
    "A function for plotting that we are going to use later on."
   ]
  },
  {
   "cell_type": "code",
   "execution_count": 2,
   "metadata": {},
   "outputs": [],
   "source": [
    "def plot_clusters(data, centroids):\n",
    "    \"\"\"\n",
    "    Shows a scatter plot with the data points clustered according to the centroids.\n",
    "    \"\"\"\n",
    "    # Assigning the data points to clusters/centroids.\n",
    "    clusters = [[] for _ in range(centroids.shape[0])]\n",
    "    \n",
    "    # The shape attribute for numpy arrays returns the dimensions of the array. \n",
    "    # If Y has n rows and m columns, then Y.shape is (n,m). So Y.shape[0] is n.\n",
    "    for i in range(data.shape[0]):\n",
    "        # .linarg stands for linear algebra and the .norm gives the matrix or vector norm. \n",
    "        # a norm is a function that assigns a strictly positive length or size to each vector in a vector space\n",
    "        distances = np.linalg.norm(data[i] - centroids, axis=1)\n",
    "        # .argmin returns the indices of the minimum values along an axis.\n",
    "        clusters[np.argmin(distances)].append(data[i])\n",
    "\n",
    "    # Plotting clusters and centroids.\n",
    "    fig, ax = plt.subplots()\n",
    "    for c in range(centroids.shape[0]):\n",
    "        if len(clusters[c]) > 0:\n",
    "            cluster = np.array(clusters[c])\n",
    "            ax.scatter(cluster[:, 0], cluster[:, 1], s=7)\n",
    "    ax.scatter(centroids[:, 0], centroids[:, 1], marker='x', s=200, c='red')"
   ]
  },
  {
   "cell_type": "markdown",
   "metadata": {},
   "source": [
    "## Data\n",
    "\n",
    "Let us generate a dataset you are going to play with. We will stay in the Euclidean space because it is easy to plot."
   ]
  },
  {
   "cell_type": "code",
   "execution_count": 3,
   "metadata": {
    "scrolled": false
   },
   "outputs": [
    {
     "name": "stdout",
     "output_type": "stream",
     "text": [
      "[[27.64052346  3.46736574]\n",
      " [14.00157208 18.2906534 ]\n",
      " [19.78737984  9.40917977]\n",
      " ...\n",
      " [80.85621773 20.91725127]\n",
      " [80.19454353 17.64628751]\n",
      " [83.13282125 21.36398195]]\n"
     ]
    }
   ],
   "source": [
    "# We would like to have some control over the randomly generated data.\n",
    "# This is just for development purposes.\n",
    "np.random.seed(0)\n",
    "\n",
    "# Euclidean space.\n",
    "DIMENSIONS = 2\n",
    "\n",
    "# We will generate clusters.\n",
    "CLUSTERS = [\n",
    "    {\n",
    "        'mean': (10, 10),\n",
    "        'std': (10, 5),\n",
    "        'size': 300\n",
    "    },\n",
    "    {\n",
    "        'mean': (10, 85),\n",
    "        'std': (10, 3),\n",
    "        'size': 100\n",
    "    },\n",
    "    {\n",
    "        'mean': (50, 50),\n",
    "        'std': (6, 6),\n",
    "        'size': 200\n",
    "    },\n",
    "    {\n",
    "        'mean': (80, 75),\n",
    "        'std': (5, 10),\n",
    "        'size': 200\n",
    "    },\n",
    "    {\n",
    "        'mean': (80, 20),\n",
    "        'std': (5, 5),\n",
    "        'size': 100\n",
    "    }\n",
    "]\n",
    "\n",
    "# Initializing the dataset with zeros.\n",
    "synthetic_data = np.zeros((np.sum([c['size'] for c in CLUSTERS]), DIMENSIONS))\n",
    "\n",
    "# Generating the clusters.\n",
    "start = 0\n",
    "for c in CLUSTERS:\n",
    "    for d in range(DIMENSIONS):\n",
    "        # random.normal Draws random samples from a normal (Gaussian) distribution.\n",
    "        # https://docs.scipy.org/doc/numpy/reference/generated/numpy.random.normal.html\n",
    "        synthetic_data[start:start + c['size'], d] = np.random.normal(c['mean'][d], c['std'][d], (c['size']))\n",
    "    start += c['size']\n",
    "print(synthetic_data)"
   ]
  },
  {
   "cell_type": "code",
   "execution_count": 4,
   "metadata": {},
   "outputs": [
    {
     "name": "stdout",
     "output_type": "stream",
     "text": [
      "shape (size, dimensions) = (900, 2)\n"
     ]
    }
   ],
   "source": [
    "print('shape (size, dimensions) =', synthetic_data.shape)"
   ]
  },
  {
   "cell_type": "markdown",
   "metadata": {},
   "source": [
    "And this is how our data look like when plotted."
   ]
  },
  {
   "cell_type": "code",
   "execution_count": 5,
   "metadata": {},
   "outputs": [
    {
     "data": {
      "text/plain": [
       "<matplotlib.collections.PathCollection at 0x117b61f28>"
      ]
     },
     "execution_count": 5,
     "metadata": {},
     "output_type": "execute_result"
    },
    {
     "data": {
      "image/png": "[encoded data removed]",
      "text/plain": [
       "<Figure size 432x288 with 1 Axes>"
      ]
     },
     "metadata": {
      "needs_background": "light"
     },
     "output_type": "display_data"
    }
   ],
   "source": [
    "plt.figure()\n",
    "plt.scatter(synthetic_data[:, 0], synthetic_data[:, 1], s=3)"
   ]
  },
  {
   "cell_type": "markdown",
   "metadata": {},
   "source": [
    "## Implementation\n",
    "\n",
    "A human can with an ease find five distinct clusters just by watching the plot. A computer, however, needs to be told how to find the clusters.\n",
    "\n",
    "**Exercise:**\n",
    "\n",
    "Implement the k-means clustering algorithm.\n",
    "\n",
    "* Use the Euclidean (L<sub>2</sub>) distance.\n",
    "* It is sufficient to use the basic Python constructs in your implementation, even though we heavily rely on Numpy throughout this assignment.\n",
    "\n",
    "**Self Notes:**    \n",
    "The algortihm explained step by step:\n",
    "\n",
    "* Select K initial centroids(center of the shape) where K is the number of clusters desired and is specified by the user\n",
    "\n",
    "* Each of the points is then assigned to the closet centroid (as mentioned we use Euclidean distance), and each collection of points assigned to a centroid is a cluster.\n",
    "\n",
    "* The centroid of each cluster is then updated based on the points assigned to the cluster\n",
    "\n",
    "* We repeat the assignment and update steps until no points changes clusters, or equivalently, until centroids remain the same. "
   ]
  },
  {
   "cell_type": "code",
   "execution_count": 6,
   "metadata": {},
   "outputs": [],
   "source": [
    "def compute_new_centroids(clusters, centroids):\n",
    "    new_centroids = []\n",
    "    for c in range(centroids.shape[0]):\n",
    "            new_centroids.append(np.mean(clusters[c], axis=0, dtype=np.float64))\n",
    "    return np.array(new_centroids)\n",
    "\n",
    "def get_clusters(data, centroids):\n",
    "        # This is where we save the data points that are assigned to a specific centroid\n",
    "        clusters = [[] for _ in range(centroids.shape[0])]\n",
    "        \n",
    "        # Iterate over the datapoints and form the clusters\n",
    "        for i in range(data.shape[0]):\n",
    "\n",
    "            # .linarg stands for linear algebra and the .norm gives the matrix or vector norm. \n",
    "            # This will be the same as the Eucledian distances between the data point data[i] and the different centroids\n",
    "            distances = np.linalg.norm(data[i] - centroids, axis=1)\n",
    "\n",
    "            # With argmin we find the indice of the centroid with the smallest distance to the data point\n",
    "            # We append the datapoint to the corresponding cluster\n",
    "            clusters[np.argmin(distances)].append(data[i].tolist())\n",
    "        return clusters\n",
    "\n",
    "def kmeans(data, centroids):\n",
    "    \"\"\"\n",
    "    Function implementing the k-means clustering.\n",
    "    \n",
    "    :param data\n",
    "        data\n",
    "    :param centroids\n",
    "        initial centroids\n",
    "    :return\n",
    "        final centroids\n",
    "    \"\"\"\n",
    "    ### START CODE HERE ### \n",
    "    # We give the change in the centroid values a 1% tolerance\n",
    "    TOLERANCE = 0.005 \n",
    "    \n",
    "    # We need to keep making the clusters until the centroids stop changing\n",
    "    # Use the isOptimal attribute to break if the change is less than a certain tolerance\n",
    "    isOptimal = False\n",
    "    while not isOptimal:\n",
    "        \n",
    "        # This is where we save the data points that are assigned to a specific centroid\n",
    "        clusters = get_clusters(data, centroids)\n",
    "            \n",
    "        # Now that we have the clusters we need to recompute the centroids\n",
    "        # It can be shown that the centroid that minimizes the SSE of the cluster is the mean\n",
    "        # So for each cluster we find the mean values, and assignes these new values as centroids\n",
    "        # To illustrate, the centroid of a cluster containing the three two-dimensional points,\n",
    "        # (1,1), (2,3), and (6,2), is ((1 + 2 + 6)13,((1 +3 + 2)13) : (3,2).\n",
    "        isOptimal = True\n",
    "        new_centroids = compute_new_centroids(clusters, centroids)\n",
    "        for c in range(centroids.shape[0]):\n",
    "            #print(np.absolute(np.sum((centroids[c] - new_centroids[c])/centroids[c])), new_centroids[c], centroids[c])\n",
    "            if np.absolute(np.sum((centroids[c] - new_centroids[c])/centroids[c])) > TOLERANCE:\n",
    "                isOptimal = False\n",
    "                \n",
    "        #Assign the new values and reapat if not optimal\n",
    "        centroids = new_centroids\n",
    "\n",
    "    ### END CODE HERE ###\n",
    "    return centroids"
   ]
  },
  {
   "cell_type": "markdown",
   "metadata": {},
   "source": [
    "We have prepared for you a small piece of code, so that you can test that the function works according the expectations."
   ]
  },
  {
   "cell_type": "code",
   "execution_count": 7,
   "metadata": {},
   "outputs": [
    {
     "name": "stdout",
     "output_type": "stream",
     "text": [
      "c0 = [10.60838779 23.74997384]\n",
      "c1 = [49.02859109 49.15205809]\n",
      "c2 = [76.15408829 21.7746025 ]\n"
     ]
    },
    {
     "data": {
      "image/png": "[encoded data removed]",
      "text/plain": [
       "<Figure size 432x288 with 1 Axes>"
      ]
     },
     "metadata": {
      "needs_background": "light"
     },
     "output_type": "display_data"
    }
   ],
   "source": [
    "test_data = np.array([\n",
    "    [66.24345364, 57.31053969],\n",
    "    [43.88243586, 39.69929645],\n",
    "    [44.71828248, 48.38791398],\n",
    "    [39.27031378, 48.07972823],\n",
    "    [58.65407629, 55.66884721],\n",
    "    [26.98461303, 44.50054366],\n",
    "    [67.44811764, 49.13785896],\n",
    "    [42.38793099, 45.61070791],\n",
    "    [53.19039096, 50.21106873],\n",
    "    [47.50629625, 52.91407607],\n",
    "    [2.29566576, 20.15837474],\n",
    "    [18.01306597, 22.22272531],\n",
    "    [16.31113504, 20.1897911 ],\n",
    "    [13.51746037, 19.08356051],\n",
    "    [16.30599164, 20.30127708],\n",
    "    [5.21390499, 24.91134781],\n",
    "    [9.13976842, 17.17882756],\n",
    "    [3.44961396, 26.64090988],\n",
    "    [8.12478344, 36.61861524],\n",
    "    [13.71248827, 30.19430912],\n",
    "    [74.04082224, 23.0017032 ],\n",
    "    [70.56185518, 16.47750154],\n",
    "    [71.26420853, 8.57481802],\n",
    "    [83.46227301, 16.50657278],\n",
    "    [75.25403877, 17.91105767],\n",
    "    [71.81502177, 25.86623191],\n",
    "    [75.95457742, 28.38983414],\n",
    "    [85.50127568, 29.31102081],\n",
    "    [75.60079476, 22.85587325],\n",
    "    [78.08601555, 28.85141164]\n",
    "])\n",
    "test_centroids = np.array([\n",
    "    [25, 50],\n",
    "    [50, 50],\n",
    "    [75, 50]\n",
    "])\n",
    "\n",
    "test_centroids = kmeans(test_data, test_centroids)\n",
    "\n",
    "print('c0 =', test_centroids[0])\n",
    "print('c1 =', test_centroids[1])\n",
    "print('c2 =', test_centroids[2])\n",
    "plot_clusters(test_data, test_centroids)"
   ]
  },
  {
   "cell_type": "markdown",
   "metadata": {},
   "source": [
    "We expect the output to be similar to following.\n",
    "\n",
    "```\n",
    "c0 = [ 9 25]\n",
    "c1 = [50 50]\n",
    "c2 = [75 20]\n",
    "```\n",
    "\n",
    "If it is not the case, review your implementation, debug your algorithm, try it on paper, ..."
   ]
  },
  {
   "cell_type": "markdown",
   "metadata": {},
   "source": [
    "## Clustering\n",
    "\n",
    "Ready to run your implementation of k-means clustering on the dataset? Let's do it...\n",
    "\n",
    "First, we need to initialize the centroids. We will go for a random initialization eventhough there are some disadvantages of doing so (see the Introduction to Data Mining from Tan et al.)."
   ]
  },
  {
   "cell_type": "code",
   "execution_count": 8,
   "metadata": {},
   "outputs": [
    {
     "name": "stdout",
     "output_type": "stream",
     "text": [
      "c0 = [32.  3.]\n",
      "c1 = [75. 85.]\n",
      "c2 = [65. 77.]\n",
      "c3 = [16. 63.]\n",
      "c4 = [-15.   2.]\n"
     ]
    },
    {
     "data": {
      "image/png": "[encoded data removed]",
      "text/plain": [
       "<Figure size 432x288 with 1 Axes>"
      ]
     },
     "metadata": {
      "needs_background": "light"
     },
     "output_type": "display_data"
    }
   ],
   "source": [
    "# Number of clusters.\n",
    "K = 5\n",
    "\n",
    "# Boundaries of our data.\n",
    "x_min = np.min(synthetic_data[:, 0])\n",
    "x_max = np.max(synthetic_data[:, 0])\n",
    "y_min = np.min(synthetic_data[:, 1])\n",
    "y_max = np.max(synthetic_data[:, 1])\n",
    "\n",
    "# Generating random centroids within the data boundaries.\n",
    "centroids = np.zeros((K, synthetic_data.shape[1]))\n",
    "centroids[:, 0] = np.random.randint(x_min, x_max, size=K)\n",
    "centroids[:, 1] = np.random.randint(y_min, y_max, size=K)\n",
    "\n",
    "for i in range(len(centroids)):\n",
    "    print('c%d =' % i, centroids[i])\n",
    "plot_clusters(synthetic_data, centroids)"
   ]
  },
  {
   "cell_type": "markdown",
   "metadata": {},
   "source": [
    "Finally, we run the `kmeans()` function you have implemented."
   ]
  },
  {
   "cell_type": "code",
   "execution_count": 9,
   "metadata": {},
   "outputs": [
    {
     "name": "stdout",
     "output_type": "stream",
     "text": [
      "c0 = [80.35860123 19.92039624]\n",
      "c1 = [80.01412361 75.34768277]\n",
      "c2 = [50.52455759 50.55856347]\n",
      "c3 = [ 8.6505037  84.62920215]\n",
      "c4 = [10.27529575  9.31284683]\n"
     ]
    },
    {
     "data": {
      "image/png": "[encoded data removed]",
      "text/plain": [
       "<Figure size 432x288 with 1 Axes>"
      ]
     },
     "metadata": {
      "needs_background": "light"
     },
     "output_type": "display_data"
    }
   ],
   "source": [
    "centroids = kmeans(synthetic_data, centroids)\n",
    "\n",
    "# plt.scatter(data[:, 0], data[:, 1], s=3)\n",
    "# plt.scatter(centroids[:, 0], centroids[:, 1], marker='x', s=200, c='red')\n",
    "\n",
    "for i in range(len(centroids)):\n",
    "    print('c%d =' % i, centroids[i])\n",
    "plot_clusters(synthetic_data, centroids)"
   ]
  },
  {
   "cell_type": "markdown",
   "metadata": {},
   "source": [
    "Congratulations! At this point, hopefully, you have found all five distinct clusters with the centroids aligned in their centers.\n",
    "\n",
    "## Evaluation of Clustering\n",
    "\n",
    "Silhouette Coefficient is an example of a measure for validation of the cluster quality.\n",
    "\n",
    "**Exercise:**\n",
    "\n",
    "Implement a function calculating the mean Silhouette Coefficient of all samples.\n",
    "\n",
    "* Use the Euclidean (L<sub>2</sub>) distance.\n",
    "* It is sufficient to use the basic Python constructs in your implementation, even though we heavily rely on Numpy throughout this assignment.\n",
    "\n",
    "**Self Notes:**    \n",
    "Finding the Siluette Coefficent an object step by step:   \n",
    "* For the ith object, calculate its average distance to all other objects in its cluster. Call this value a_i\n",
    "* For the ith object and any cluster not containing the object, calculate the objects average distance to all the objects in the given cluster. Find the minimum such value with respect to all clusters, call this value b_i\n",
    "* For the ith object, the silhouette coefficient is s_i = (b_i - a_i) / max(a_i,b_i)"
   ]
  },
  {
   "cell_type": "code",
   "execution_count": 10,
   "metadata": {},
   "outputs": [],
   "source": [
    "def silhouette_score(data, centroids):\n",
    "    \"\"\"\n",
    "    Function implementing the k-means clustering.\n",
    "    \n",
    "    :param data\n",
    "        data\n",
    "    :param centroids\n",
    "        centroids\n",
    "    :return\n",
    "        mean Silhouette Coefficient of all samples\n",
    "    \"\"\"\n",
    "    ### START CODE HERE ### \n",
    "    clusters = get_clusters(data, centroids)\n",
    "    \n",
    "    # First lets find the average distance to all other object in its own cluster\n",
    "    a = []\n",
    "    for cluster in clusters:\n",
    "        for point in cluster:\n",
    "            distances = np.linalg.norm(np.array(point) - np.array(cluster), axis=1)\n",
    "            avg_dist = np.sum(distances)/(len(cluster) - 1)\n",
    "            a.append(avg_dist)\n",
    "    \n",
    "    # Then lets find the average distance for each object to all the different clusters and choos the minimum\n",
    "    b = []\n",
    "    for cluster in clusters:\n",
    "        for point in cluster:\n",
    "            # Save all the other clusters in a different variable\n",
    "            cluster_index = clusters.index(cluster)\n",
    "            other_clusters = list(clusters)\n",
    "            del other_clusters[cluster_index]\n",
    "            \n",
    "            # For each of the other clusters, find the avg distance and select the minimum of those\n",
    "            avg_distances = []\n",
    "            for oc in other_clusters:\n",
    "                distances = np.linalg.norm(np.array(point) - np.array(oc), axis=1)\n",
    "                avg_dist = np.sum(distances)/(len(oc))\n",
    "                avg_distances.append(avg_dist)\n",
    "            b.append(min(avg_distances))\n",
    "    \n",
    "    \n",
    "    scores = []\n",
    "    # Now lets compute the Silhouette Coefficient for each of the objects and return the average as the score\n",
    "    for x in range(len(a) - 1):\n",
    "        res = (b[x] - a[x])/max([a[x],b[x]])\n",
    "        scores.append(res)\n",
    "    \n",
    "    ### END CODE HERE ### \n",
    "    return sum(scores)/len(scores)"
   ]
  },
  {
   "cell_type": "markdown",
   "metadata": {},
   "source": [
    "First, let's see if the algorithm executes on the test data."
   ]
  },
  {
   "cell_type": "code",
   "execution_count": 11,
   "metadata": {},
   "outputs": [
    {
     "data": {
      "text/plain": [
       "0.6734421957046408"
      ]
     },
     "execution_count": 11,
     "metadata": {},
     "output_type": "execute_result"
    }
   ],
   "source": [
    "silhouette_score(test_data, test_centroids)"
   ]
  },
  {
   "cell_type": "markdown",
   "metadata": {},
   "source": [
    "We expect the output to be around `0.675`.\n",
    "\n",
    "Finally, let's cluster again our synthetic data and calculate the Silhouette Coefficient."
   ]
  },
  {
   "cell_type": "code",
   "execution_count": 12,
   "metadata": {},
   "outputs": [
    {
     "name": "stdout",
     "output_type": "stream",
     "text": [
      "silhouette_coefficient = 0.511270546841137\n"
     ]
    },
    {
     "data": {
      "image/png": "[encoded data removed]",
      "text/plain": [
       "<Figure size 432x288 with 1 Axes>"
      ]
     },
     "metadata": {
      "needs_background": "light"
     },
     "output_type": "display_data"
    }
   ],
   "source": [
    "centroids = np.zeros((K, synthetic_data.shape[1]))\n",
    "centroids[:, 0] = np.random.randint(x_min, x_max, size=K)\n",
    "centroids[:, 1] = np.random.randint(y_min, y_max, size=K)\n",
    "\n",
    "centroids = kmeans(synthetic_data, centroids)\n",
    "silhouette_coefficient = silhouette_score(synthetic_data, centroids)\n",
    "\n",
    "print('silhouette_coefficient =', silhouette_coefficient)\n",
    "plot_clusters(synthetic_data, centroids)"
   ]
  },
  {
   "cell_type": "markdown",
   "metadata": {},
   "source": [
    "**Exercise:**\n",
    "\n",
    "* Run the clustering multiple times and pay attention to the results.\n",
    "* In the *Discussion* below, describe your observations and discuss reasons for the possibly strong or weak performance of the algorithm. If you identify any weaknesses, suggest a possible solution.\n",
    "\n",
    "## Discussion\n",
    "\n",
    "<span style=\"color: red;\">*Place for your discussion.*</span> ✌️"
   ]
  },
  {
   "cell_type": "code",
   "execution_count": null,
   "metadata": {},
   "outputs": [],
   "source": []
  }
 ],
 "metadata": {
  "kernelspec": {
   "display_name": "Python 3",
   "language": "python",
   "name": "python3"
  },
  "language_info": {
   "codemirror_mode": {
    "name": "ipython",
    "version": 3
   },
   "file_extension": ".py",
   "mimetype": "text/x-python",
   "name": "python",
   "nbconvert_exporter": "python",
   "pygments_lexer": "ipython3",
   "version": "3.7.0"
  }
 },
 "nbformat": 4,
 "nbformat_minor": 1
}
